{
 "cells": [
  {
   "cell_type": "code",
   "execution_count": 2,
   "metadata": {
    "collapsed": true
   },
   "outputs": [
    {
     "ename": "IndentationError",
     "evalue": "expected an indented block (<ipython-input-2-5daeddc29247>, line 12)",
     "traceback": [
      "\u001b[0;36m  File \u001b[0;32m\"<ipython-input-2-5daeddc29247>\"\u001b[0;36m, line \u001b[0;32m12\u001b[0m\n\u001b[0;31m    categs = ['sport', 'business', 'entertainment', 'politics', 'tech']\u001b[0m\n\u001b[0m         ^\u001b[0m\n\u001b[0;31mIndentationError\u001b[0m\u001b[0;31m:\u001b[0m expected an indented block\n"
     ],
     "output_type": "error"
    }
   ],
   "source": [
    "import pickle\n",
    "import os\n",
    "from collections import Counter\n",
    "import keras\n",
    "FN0 = 'tokens' # this is the name of the data file which I assume you already have\n",
    "\n",
    "def get_vocab(lst):\n",
    "    vocab_count, vocab = Counter(w for txt in lst for w in txt.split())\n",
    "    \n",
    "    return vocab, vocab_count\n",
    "\n",
    "#Read the files by category on resources/bbc\n",
    "#sport, business, entertainment, politics, tech\n",
    "\n",
    "categs = ['sport', 'business', 'entertainment', 'politics', 'tech']\n",
    "\n",
    "for categ in categs:\n",
    "    files = os.listdir('resources/bbc/%s' % categ)\n",
    "\n",
    "    for file in files:\n",
    "        with open(('resources/bbc/' + categ + \"/\" +file), mode='r') as article:\n",
    "            article_lines = article.readline(limit=15)\n",
    "            head = article_lines[0]\n",
    "            print(\"Cabeçalho: \" + head)\n",
    "            for line in article_lines[1:]:"
   ]
  },
  {
   "cell_type": "code",
   "execution_count": 4,
   "metadata": {},
   "outputs": [
    {
     "ename": "NameError",
     "evalue": "name 'heads' is not defined",
     "traceback": [
      "\u001b[0;31m---------------------------------------------------------------------------\u001b[0m",
      "\u001b[0;31mNameError\u001b[0m                                 Traceback (most recent call last)",
      "\u001b[0;32m<ipython-input-4-cf83d7424eb3>\u001b[0m in \u001b[0;36m<module>\u001b[0;34m()\u001b[0m\n\u001b[1;32m      8\u001b[0m \u001b[0;34m\u001b[0m\u001b[0m\n\u001b[1;32m      9\u001b[0m \u001b[0mi\u001b[0m\u001b[0;34m=\u001b[0m\u001b[0;36m0\u001b[0m\u001b[0;34m\u001b[0m\u001b[0m\n\u001b[0;32m---> 10\u001b[0;31m \u001b[0mheads\u001b[0m\u001b[0;34m[\u001b[0m\u001b[0mi\u001b[0m\u001b[0;34m]\u001b[0m\u001b[0;34m\u001b[0m\u001b[0m\n\u001b[0m\u001b[1;32m     11\u001b[0m \u001b[0;34m\u001b[0m\u001b[0m\n\u001b[1;32m     12\u001b[0m \u001b[0mdesc\u001b[0m\u001b[0;34m[\u001b[0m\u001b[0mi\u001b[0m\u001b[0;34m]\u001b[0m\u001b[0;34m\u001b[0m\u001b[0m\n",
      "\u001b[0;31mNameError\u001b[0m: name 'heads' is not defined"
     ],
     "output_type": "error"
    }
   ],
   "source": [
    "with open('data/%s.pkl' % FN0, 'rb') as fp:\n",
    "    heads, desc, keywords = pickle.load(fp) # keywords are not used in this project\n",
    "\n",
    "lower = False # dont lower case the text\n",
    "\n",
    "if lower:\n",
    "    heads = [h.lower() for h in heads]\n",
    "    \n",
    "if lower:\n",
    "    desc = [h.lower() for h in desc]\n",
    "    \n",
    "i=0\n",
    "heads[i]\n",
    "\n",
    "desc[i]"
   ]
  },
  {
   "cell_type": "code",
   "execution_count": null,
   "metadata": {},
   "outputs": [],
   "source": [
    ""
   ]
  }
 ],
 "metadata": {
  "kernelspec": {
   "display_name": "Python 2",
   "language": "python",
   "name": "python2"
  },
  "language_info": {
   "codemirror_mode": {
    "name": "ipython",
    "version": 2.0
   },
   "file_extension": ".py",
   "mimetype": "text/x-python",
   "name": "python",
   "nbconvert_exporter": "python",
   "pygments_lexer": "ipython2",
   "version": "2.7.6"
  }
 },
 "nbformat": 4,
 "nbformat_minor": 0
}